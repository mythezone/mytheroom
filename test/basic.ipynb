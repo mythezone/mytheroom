{
 "cells": [
  {
   "cell_type": "code",
   "execution_count": 2,
   "metadata": {},
   "outputs": [],
   "source": [
    "from PIL import Image \n",
    "im = Image.open(\"small.png\")\n"
   ]
  },
  {
   "cell_type": "code",
   "execution_count": 3,
   "metadata": {},
   "outputs": [
    {
     "name": "stdout",
     "output_type": "stream",
     "text": [
      "PNG (896, 600) RGB\n"
     ]
    }
   ],
   "source": [
    "print(im.format,im.size, im.mode)"
   ]
  },
  {
   "cell_type": "code",
   "execution_count": 6,
   "metadata": {},
   "outputs": [
    {
     "name": "stdout",
     "output_type": "stream",
     "text": [
      "{'_PngImageFile__frame': 0,\n",
      " '_PngImageFile__idat': 0,\n",
      " '_PngImageFile__prepare_idat': 65536,\n",
      " '_exclusive_fp': True,\n",
      " '_exif': None,\n",
      " '_fp': <_io.BufferedReader name='C:\\\\Users\\\\mythezone\\\\project\\\\mytheroom\\\\test\\\\small.png'>,\n",
      " '_min_frame': 0,\n",
      " '_mode': 'RGB',\n",
      " '_size': (896, 600),\n",
      " '_text': {'parameters': 'best quality, realistic, photorealistic, '\n",
      "                         'award-winning illustration, (intricate details:1.2), '\n",
      "                         '(delicate detailed), (intricate details), (cinematic '\n",
      "                         'light, best quality Backlights), clear line,fashion '\n",
      "                         'girl, sharp focus, realistic face,detailed '\n",
      "                         'face,official art, unity 8k wallpaper, ultra high '\n",
      "                         'res, (photorealistic:1.5), looking at viewer, '\n",
      "                         'ulzzang-6500,<lora:taiwanDollLikeness_v10:0.2>, '\n",
      "                         '<lora:koreanDollLikeness_v10:0.2>, '\n",
      "                         '<lora:japaneseDollLikeness_v10:0.2>, '\n",
      "                         '<lora:breastinclassBetter_v13:0.3>\\n'\n",
      "                         'Negative prompt: blurry background,depth of '\n",
      "                         'field,paintings, sketches, (worst quality:2), (low '\n",
      "                         'quality:2), (normal quality:2), lowres, normal '\n",
      "                         'quality, ((monochrome)), ((grayscale)), skin spots, '\n",
      "                         'acnes, skin blemishes, age spot, (outdoor:1.6), '\n",
      "                         'manboobs, backlight, double navel, mutad arms, hused '\n",
      "                         'arms\\n'\n",
      "                         'Steps: 40, Sampler: DPM++ SDE Karras, CFG scale: 7, '\n",
      "                         'Seed: 3038623751, Size: 900x600, Model hash: '\n",
      "                         'fc2511737a, Model: chilloutmix_NiPrunedFp32Fix, '\n",
      "                         'ENSD: 31337'},\n",
      " 'custom_mimetype': None,\n",
      " 'decoderconfig': (),\n",
      " 'decodermaxblock': 65536,\n",
      " 'default_image': False,\n",
      " 'encoderconfig': (False, 1, -1, b''),\n",
      " 'encoderinfo': {'compress_level': 1},\n",
      " 'filename': 'C:\\\\Users\\\\mythezone\\\\project\\\\mytheroom\\\\test\\\\small.png',\n",
      " 'fp': None,\n",
      " 'im': <ImagingCore object at 0x0000022FB4544EF0>,\n",
      " 'info': {'parameters': 'best quality, realistic, photorealistic, '\n",
      "                        'award-winning illustration, (intricate details:1.2), '\n",
      "                        '(delicate detailed), (intricate details), (cinematic '\n",
      "                        'light, best quality Backlights), clear line,fashion '\n",
      "                        'girl, sharp focus, realistic face,detailed '\n",
      "                        'face,official art, unity 8k wallpaper, ultra high '\n",
      "                        'res, (photorealistic:1.5), looking at viewer, '\n",
      "                        'ulzzang-6500,<lora:taiwanDollLikeness_v10:0.2>, '\n",
      "                        '<lora:koreanDollLikeness_v10:0.2>, '\n",
      "                        '<lora:japaneseDollLikeness_v10:0.2>, '\n",
      "                        '<lora:breastinclassBetter_v13:0.3>\\n'\n",
      "                        'Negative prompt: blurry background,depth of '\n",
      "                        'field,paintings, sketches, (worst quality:2), (low '\n",
      "                        'quality:2), (normal quality:2), lowres, normal '\n",
      "                        'quality, ((monochrome)), ((grayscale)), skin spots, '\n",
      "                        'acnes, skin blemishes, age spot, (outdoor:1.6), '\n",
      "                        'manboobs, backlight, double navel, mutad arms, hused '\n",
      "                        'arms\\n'\n",
      "                        'Steps: 40, Sampler: DPM++ SDE Karras, CFG scale: 7, '\n",
      "                        'Seed: 3038623751, Size: 900x600, Model hash: '\n",
      "                        'fc2511737a, Model: chilloutmix_NiPrunedFp32Fix, ENSD: '\n",
      "                        '31337'},\n",
      " 'is_animated': False,\n",
      " 'map': None,\n",
      " 'n_frames': 1,\n",
      " 'palette': None,\n",
      " 'png': None,\n",
      " 'private_chunks': [],\n",
      " 'pyaccess': None,\n",
      " 'readonly': 0,\n",
      " 'tile': []}\n"
     ]
    }
   ],
   "source": [
    "from pprint import pprint \n",
    "pprint(im.__dict__)"
   ]
  },
  {
   "cell_type": "code",
   "execution_count": 7,
   "metadata": {},
   "outputs": [],
   "source": [
    "box = (100,100,400,400)\n",
    "region = im.crop(box)\n",
    "\n",
    "region.show()\n",
    "\n",
    "\n"
   ]
  },
  {
   "cell_type": "code",
   "execution_count": 11,
   "metadata": {},
   "outputs": [],
   "source": [
    "region = region.transpose(Image.ROTATE_180)\n",
    "im.paste(region,box)\n",
    "im.show()"
   ]
  },
  {
   "cell_type": "code",
   "execution_count": 12,
   "metadata": {},
   "outputs": [],
   "source": [
    "def roll(im, delta):\n",
    "    \"\"\"Roll an image sideways.\"\"\"\n",
    "    xsize, ysize = im.size\n",
    "\n",
    "    delta = delta % xsize\n",
    "    if delta == 0:\n",
    "        return im\n",
    "\n",
    "    part1 = im.crop((0, 0, delta, ysize))\n",
    "    part2 = im.crop((delta, 0, xsize, ysize))\n",
    "    im.paste(part1, (xsize - delta, 0, xsize, ysize))\n",
    "    im.paste(part2, (0, 0, xsize - delta, ysize))\n",
    "\n",
    "    return im\n",
    "\n",
    "im2 = roll(im,100)\n",
    "im2.show()\n"
   ]
  },
  {
   "cell_type": "code",
   "execution_count": 14,
   "metadata": {},
   "outputs": [],
   "source": [
    "def merge(im1, im2):\n",
    "    w = im1.size[0] + im2.size[0]\n",
    "    h = max(im1.size[1], im2.size[1])\n",
    "    im = Image.new(\"RGBA\", (w, h))\n",
    "\n",
    "    im.paste(im1)\n",
    "    im.paste(im2, (im1.size[0], 0))\n",
    "\n",
    "    return im\n",
    "\n",
    "im3 = merge(im,im2)\n",
    "im3.show()"
   ]
  },
  {
   "cell_type": "code",
   "execution_count": 23,
   "metadata": {},
   "outputs": [],
   "source": [
    "r, g, b = im.split()\n",
    "im = Image.merge(\"RGB\", (b, g, r))\n",
    "im.show()\n"
   ]
  },
  {
   "cell_type": "code",
   "execution_count": 16,
   "metadata": {},
   "outputs": [],
   "source": []
  },
  {
   "cell_type": "code",
   "execution_count": 17,
   "metadata": {},
   "outputs": [],
   "source": [
    "r.show()"
   ]
  },
  {
   "cell_type": "code",
   "execution_count": 18,
   "metadata": {},
   "outputs": [],
   "source": [
    "im.resize((100,50)).show()"
   ]
  },
  {
   "cell_type": "code",
   "execution_count": 20,
   "metadata": {},
   "outputs": [],
   "source": [
    "im.rotate(90).show()"
   ]
  },
  {
   "cell_type": "code",
   "execution_count": 25,
   "metadata": {},
   "outputs": [],
   "source": [
    "im.show()"
   ]
  },
  {
   "cell_type": "code",
   "execution_count": 24,
   "metadata": {},
   "outputs": [],
   "source": [
    "from PIL import ImageFilter\n",
    "out = im.filter(ImageFilter.DETAIL)\n",
    "out.show()"
   ]
  },
  {
   "cell_type": "code",
   "execution_count": 28,
   "metadata": {},
   "outputs": [],
   "source": [
    "# split the image into individual bands\n",
    "source = im.split()\n",
    "\n",
    "R, G, B = 0, 1, 2\n",
    "\n",
    "# select regions where red is less than 100\n",
    "mask = source[R].point(lambda i: i < 100 and 255)\n",
    "\n",
    "# process the green band\n",
    "out = source[G].point(lambda i: i * 0.7)\n",
    "\n",
    "# paste the processed band back, but only where red was < 100\n",
    "source[G].paste(out, None, mask)\n",
    "\n",
    "# build a new multiband image\n",
    "im2 = Image.merge(im.mode, source)\n",
    "im2.show()"
   ]
  },
  {
   "cell_type": "code",
   "execution_count": 31,
   "metadata": {},
   "outputs": [
    {
     "ename": "",
     "evalue": "",
     "output_type": "error",
     "traceback": [
      "\u001b[1;31mThe Kernel crashed while executing code in the current cell or a previous cell. \n",
      "\u001b[1;31mPlease review the code in the cell(s) to identify a possible cause of the failure. \n",
      "\u001b[1;31mClick <a href='https://aka.ms/vscodeJupyterKernelCrash'>here</a> for more info. \n",
      "\u001b[1;31mView Jupyter <a href='command:jupyter.viewOutput'>log</a> for further details."
     ]
    }
   ],
   "source": [
    "from PIL import ImageEnhance\n",
    "\n",
    "enh = ImageEnhance.Contrast(im)\n",
    "enh.enhance(2).show(\"30% more contrast\")"
   ]
  },
  {
   "cell_type": "code",
   "execution_count": null,
   "metadata": {},
   "outputs": [],
   "source": []
  }
 ],
 "metadata": {
  "kernelspec": {
   "display_name": "mytheroom",
   "language": "python",
   "name": "python3"
  },
  "language_info": {
   "codemirror_mode": {
    "name": "ipython",
    "version": 3
   },
   "file_extension": ".py",
   "mimetype": "text/x-python",
   "name": "python",
   "nbconvert_exporter": "python",
   "pygments_lexer": "ipython3",
   "version": "3.12.4"
  }
 },
 "nbformat": 4,
 "nbformat_minor": 2
}
